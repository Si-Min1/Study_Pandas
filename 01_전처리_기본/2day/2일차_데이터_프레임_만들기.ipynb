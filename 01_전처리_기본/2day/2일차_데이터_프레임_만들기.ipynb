{
 "cells": [
  {
   "cell_type": "markdown",
   "id": "d4514cde",
   "metadata": {},
   "source": [
    "## 판다스 데이터 구조\n",
    "\n",
    "### 시리즈\n",
    "인덱스를 가진 1차원 배열"
   ]
  },
  {
   "cell_type": "code",
   "execution_count": 83,
   "id": "f05f6e5c",
   "metadata": {},
   "outputs": [],
   "source": [
    "import pandas as pd"
   ]
  },
  {
   "cell_type": "code",
   "execution_count": 84,
   "id": "ea4a76bb",
   "metadata": {},
   "outputs": [],
   "source": [
    "sd1 = pd.Series(['Dog', 'Cat', 'Tiger', 'Lion', 'Monkey'],\n",
    "               index = [1,2,6,4,5]) # 문자도 가능"
   ]
  },
  {
   "cell_type": "code",
   "execution_count": 85,
   "id": "98fcf628",
   "metadata": {},
   "outputs": [
    {
     "data": {
      "text/plain": [
       "1       Dog\n",
       "2       Cat\n",
       "6     Tiger\n",
       "4      Lion\n",
       "5    Monkey\n",
       "dtype: object"
      ]
     },
     "execution_count": 85,
     "metadata": {},
     "output_type": "execute_result"
    }
   ],
   "source": [
    "sd1"
   ]
  },
  {
   "cell_type": "markdown",
   "id": "c62e8a64",
   "metadata": {},
   "source": [
    "### 딕셔너리 -> 시리즈로"
   ]
  },
  {
   "cell_type": "code",
   "execution_count": 86,
   "id": "44ceae62",
   "metadata": {},
   "outputs": [
    {
     "data": {
      "text/plain": [
       "a    1\n",
       "b    2\n",
       "c    3\n",
       "dtype: int64"
      ]
     },
     "execution_count": 86,
     "metadata": {},
     "output_type": "execute_result"
    }
   ],
   "source": [
    "dict_data = {'a' : 1, 'b' : 2, 'c' : 3}\n",
    "series_data = pd.Series(dict_data)\n",
    "series_data"
   ]
  },
  {
   "cell_type": "markdown",
   "id": "534c34f2",
   "metadata": {},
   "source": [
    "### 리스트 =>  시리즈"
   ]
  },
  {
   "cell_type": "code",
   "execution_count": 87,
   "id": "86aeedbb",
   "metadata": {},
   "outputs": [
    {
     "data": {
      "text/plain": [
       "ㄱ      Dog\n",
       "2      Cat\n",
       "3    TIger\n",
       "dtype: object"
      ]
     },
     "execution_count": 87,
     "metadata": {},
     "output_type": "execute_result"
    }
   ],
   "source": [
    "list_data = ['Dog', 'Cat', 'TIger']\n",
    "\n",
    "series_list_data = pd.Series(list_data,\n",
    "                             index = ['ㄱ','2','3'])\n",
    "series_list_data"
   ]
  },
  {
   "cell_type": "markdown",
   "id": "117d7396",
   "metadata": {},
   "source": [
    "### 튜플 => 시리즈"
   ]
  },
  {
   "cell_type": "code",
   "execution_count": 88,
   "id": "59d86071",
   "metadata": {},
   "outputs": [
    {
     "data": {
      "text/plain": [
       "('이순신', '1991-03-15', '남자')"
      ]
     },
     "execution_count": 88,
     "metadata": {},
     "output_type": "execute_result"
    }
   ],
   "source": [
    "tuple_data = ('이순신', '1991-03-15', '남자')\n",
    "tuple_data"
   ]
  },
  {
   "cell_type": "code",
   "execution_count": 89,
   "id": "229552c7",
   "metadata": {},
   "outputs": [
    {
     "data": {
      "text/plain": [
       "이름           이순신\n",
       "년도    1991-03-15\n",
       "성별            남자\n",
       "dtype: object"
      ]
     },
     "execution_count": 89,
     "metadata": {},
     "output_type": "execute_result"
    }
   ],
   "source": [
    "col_name_list = ['이름', '년도', '성별']\n",
    "series_tuple_data = pd.Series(tuple_data,\n",
    "                             index = col_name_list)\n",
    "series_tuple_data"
   ]
  },
  {
   "cell_type": "markdown",
   "id": "ed3e44d9",
   "metadata": {},
   "source": [
    "### 딕셔너리 => 데이터프레임"
   ]
  },
  {
   "cell_type": "code",
   "execution_count": 90,
   "id": "de2e4f11",
   "metadata": {},
   "outputs": [
    {
     "data": {
      "text/plain": [
       "{'동물': ['Dog', 'Cat', 'Tiger', 'Lion', 'Monkey'], '나이': [7, 9, 2, 3, 1]}"
      ]
     },
     "execution_count": 90,
     "metadata": {},
     "output_type": "execute_result"
    }
   ],
   "source": [
    "animal_df = {'동물' : ['Dog', 'Cat', 'Tiger', 'Lion', 'Monkey'],\n",
    "                    '나이' : [7, 9, 2, 3, 1]}\n",
    "animal_df"
   ]
  },
  {
   "cell_type": "code",
   "execution_count": 91,
   "id": "2cb0240a",
   "metadata": {},
   "outputs": [
    {
     "data": {
      "text/html": [
       "<div>\n",
       "<style scoped>\n",
       "    .dataframe tbody tr th:only-of-type {\n",
       "        vertical-align: middle;\n",
       "    }\n",
       "\n",
       "    .dataframe tbody tr th {\n",
       "        vertical-align: top;\n",
       "    }\n",
       "\n",
       "    .dataframe thead th {\n",
       "        text-align: right;\n",
       "    }\n",
       "</style>\n",
       "<table border=\"1\" class=\"dataframe\">\n",
       "  <thead>\n",
       "    <tr style=\"text-align: right;\">\n",
       "      <th></th>\n",
       "      <th>동물</th>\n",
       "      <th>나이</th>\n",
       "    </tr>\n",
       "  </thead>\n",
       "  <tbody>\n",
       "    <tr>\n",
       "      <th>0</th>\n",
       "      <td>Dog</td>\n",
       "      <td>7</td>\n",
       "    </tr>\n",
       "    <tr>\n",
       "      <th>1</th>\n",
       "      <td>Cat</td>\n",
       "      <td>9</td>\n",
       "    </tr>\n",
       "    <tr>\n",
       "      <th>2</th>\n",
       "      <td>Tiger</td>\n",
       "      <td>2</td>\n",
       "    </tr>\n",
       "    <tr>\n",
       "      <th>3</th>\n",
       "      <td>Lion</td>\n",
       "      <td>3</td>\n",
       "    </tr>\n",
       "    <tr>\n",
       "      <th>4</th>\n",
       "      <td>Monkey</td>\n",
       "      <td>1</td>\n",
       "    </tr>\n",
       "  </tbody>\n",
       "</table>\n",
       "</div>"
      ],
      "text/plain": [
       "       동물  나이\n",
       "0     Dog   7\n",
       "1     Cat   9\n",
       "2   Tiger   2\n",
       "3    Lion   3\n",
       "4  Monkey   1"
      ]
     },
     "execution_count": 91,
     "metadata": {},
     "output_type": "execute_result"
    }
   ],
   "source": [
    "animal_df1 = pd.DataFrame(animal_df)\n",
    "animal_df1"
   ]
  },
  {
   "cell_type": "markdown",
   "id": "eb24f436",
   "metadata": {},
   "source": [
    "### 리스트 => 데이터프레임"
   ]
  },
  {
   "cell_type": "code",
   "execution_count": 92,
   "id": "55da4658",
   "metadata": {},
   "outputs": [
    {
     "data": {
      "text/plain": [
       "[['Dog', 7], ['Cat', 9], ['Tiger', 2], ['Lion', 3], ['Monkey', 1]]"
      ]
     },
     "execution_count": 92,
     "metadata": {},
     "output_type": "execute_result"
    }
   ],
   "source": [
    "list_data = [['Dog', 7], ['Cat', 9], ['Tiger', 2], ['Lion', 3], ['Monkey', 1]]\n",
    "list_data"
   ]
  },
  {
   "cell_type": "code",
   "execution_count": 93,
   "id": "336c5f76",
   "metadata": {},
   "outputs": [
    {
     "name": "stdout",
     "output_type": "stream",
     "text": [
      "       동물  나이\n",
      "1     Dog   7\n",
      "2     Cat   9\n",
      "3   Tiger   2\n",
      "4    Lion   3\n",
      "5  Monkey   1\n",
      "<class 'pandas.core.frame.DataFrame'>\n",
      "동물    object\n",
      "나이     int64\n",
      "dtype: object\n"
     ]
    }
   ],
   "source": [
    "list_data_df = pd.DataFrame(list_data,\n",
    "                            columns = ['동물', '나이'],\n",
    "                            index = [1,2,3,4,5])\n",
    "print(list_data_df)\n",
    "print(type(list_data_df))\n",
    "print(list_data_df.dtypes)"
   ]
  },
  {
   "cell_type": "markdown",
   "id": "4e5e37c5",
   "metadata": {},
   "source": [
    "### 비어있는 데이터 프레임 만들기"
   ]
  },
  {
   "cell_type": "code",
   "execution_count": 94,
   "id": "e094b27c",
   "metadata": {},
   "outputs": [
    {
     "data": {
      "text/html": [
       "<div>\n",
       "<style scoped>\n",
       "    .dataframe tbody tr th:only-of-type {\n",
       "        vertical-align: middle;\n",
       "    }\n",
       "\n",
       "    .dataframe tbody tr th {\n",
       "        vertical-align: top;\n",
       "    }\n",
       "\n",
       "    .dataframe thead th {\n",
       "        text-align: right;\n",
       "    }\n",
       "</style>\n",
       "<table border=\"1\" class=\"dataframe\">\n",
       "  <thead>\n",
       "    <tr style=\"text-align: right;\">\n",
       "      <th></th>\n",
       "    </tr>\n",
       "  </thead>\n",
       "  <tbody>\n",
       "  </tbody>\n",
       "</table>\n",
       "</div>"
      ],
      "text/plain": [
       "Empty DataFrame\n",
       "Columns: []\n",
       "Index: []"
      ]
     },
     "execution_count": 94,
     "metadata": {},
     "output_type": "execute_result"
    }
   ],
   "source": [
    "df_null = pd.DataFrame()\n",
    "df_null"
   ]
  },
  {
   "cell_type": "code",
   "execution_count": 96,
   "id": "dbffde85",
   "metadata": {},
   "outputs": [
    {
     "data": {
      "text/html": [
       "<div>\n",
       "<style scoped>\n",
       "    .dataframe tbody tr th:only-of-type {\n",
       "        vertical-align: middle;\n",
       "    }\n",
       "\n",
       "    .dataframe tbody tr th {\n",
       "        vertical-align: top;\n",
       "    }\n",
       "\n",
       "    .dataframe thead th {\n",
       "        text-align: right;\n",
       "    }\n",
       "</style>\n",
       "<table border=\"1\" class=\"dataframe\">\n",
       "  <thead>\n",
       "    <tr style=\"text-align: right;\">\n",
       "      <th></th>\n",
       "      <th>동물</th>\n",
       "    </tr>\n",
       "  </thead>\n",
       "  <tbody>\n",
       "  </tbody>\n",
       "</table>\n",
       "</div>"
      ],
      "text/plain": [
       "Empty DataFrame\n",
       "Columns: [동물]\n",
       "Index: []"
      ]
     },
     "execution_count": 96,
     "metadata": {},
     "output_type": "execute_result"
    }
   ],
   "source": [
    "df_null['동물'] = 'Dog'\n",
    "df_null"
   ]
  },
  {
   "cell_type": "code",
   "execution_count": null,
   "id": "ff4e52ed",
   "metadata": {},
   "outputs": [],
   "source": []
  },
  {
   "cell_type": "code",
   "execution_count": null,
   "id": "8c80a60e",
   "metadata": {},
   "outputs": [],
   "source": []
  }
 ],
 "metadata": {
  "kernelspec": {
   "display_name": "Python 3 (ipykernel)",
   "language": "python",
   "name": "python3"
  },
  "language_info": {
   "codemirror_mode": {
    "name": "ipython",
    "version": 3
   },
   "file_extension": ".py",
   "mimetype": "text/x-python",
   "name": "python",
   "nbconvert_exporter": "python",
   "pygments_lexer": "ipython3",
   "version": "3.9.7"
  }
 },
 "nbformat": 4,
 "nbformat_minor": 5
}

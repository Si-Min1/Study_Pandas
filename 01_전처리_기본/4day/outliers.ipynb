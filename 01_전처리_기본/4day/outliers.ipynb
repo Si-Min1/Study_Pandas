{
 "cells": [
  {
   "cell_type": "code",
   "execution_count": null,
   "id": "4d79c647",
   "metadata": {},
   "outputs": [],
   "source": [
    "import numpy as np\n",
    "def outerLIne_iqr(df_data, data):\n",
    "    q1,q3 = np.percentile(df_data[data],[25,75])\n",
    "    iqr = q3 - q1\n",
    "    lower_bound = q1 - (1.5*iqr)\n",
    "    lower_bound\n",
    "    \n",
    "    upper_bound = q3 + (1.5*iqr)\n",
    "    upper_bound\n",
    "    \n",
    "    print('최대',upper_bound, '최소', lower_bound)\n",
    "    return df_data[(df_data[data] < lower_bound) | (df_data[data] > upper_bound)]"
   ]
  }
 ],
 "metadata": {
  "kernelspec": {
   "display_name": "Python 3 (ipykernel)",
   "language": "python",
   "name": "python3"
  },
  "language_info": {
   "codemirror_mode": {
    "name": "ipython",
    "version": 3
   },
   "file_extension": ".py",
   "mimetype": "text/x-python",
   "name": "python",
   "nbconvert_exporter": "python",
   "pygments_lexer": "ipython3",
   "version": "3.9.7"
  }
 },
 "nbformat": 4,
 "nbformat_minor": 5
}

{
 "cells": [
  {
   "cell_type": "markdown",
   "id": "b4846a0e",
   "metadata": {},
   "source": [
    "# 파이썬에서 데이터 조작하기"
   ]
  },
  {
   "cell_type": "markdown",
   "id": "aec91a6b",
   "metadata": {},
   "source": [
    "### 사용 라이브러리"
   ]
  },
  {
   "cell_type": "code",
   "execution_count": 2,
   "id": "7d2fa572",
   "metadata": {},
   "outputs": [],
   "source": [
    "import pandas as pd\n",
    "\n",
    "# 그림 그리는 라이브러리\n",
    "# seaborn과 연동되어 있는 모듈들\n",
    "import matplotlib as mpl\n",
    "import matplotlib.pylab as plt\n",
    "# 내장 데이터 있음(tips같은 샘플 데이터)\n",
    "import seaborn as sns\n",
    "\n",
    "# 행의 위치 찾을 때 사용\n",
    "# loc, iloc 같이 인덱스를 사용하여 행을 찾을때 사용하였음\n",
    "import numpy as np"
   ]
  },
  {
   "cell_type": "markdown",
   "id": "fa1ab9e3",
   "metadata": {},
   "source": [
    "### 시리즈"
   ]
  },
  {
   "cell_type": "code",
   "execution_count": 4,
   "id": "a77a0fc1",
   "metadata": {},
   "outputs": [
    {
     "data": {
      "text/plain": [
       "1       Dog\n",
       "2       Cat\n",
       "6     Tiger\n",
       "4      Lion\n",
       "5    Monkey\n",
       "dtype: object"
      ]
     },
     "execution_count": 4,
     "metadata": {},
     "output_type": "execute_result"
    }
   ],
   "source": [
    "# pandas 함수\n",
    "# 시리즈 변수 만들기\n",
    "pd.Series() 함수 사용\n",
    "se1 = pd.Series(['Dog', 'Cat', 'Tiger', 'Lion', 'Monkey'],\n",
    "               index = [1,2,6,4,5]) # 문자도 가능하다\n",
    "se1"
   ]
  },
  {
   "cell_type": "code",
   "execution_count": null,
   "id": "5b4dece3",
   "metadata": {},
   "outputs": [],
   "source": [
    "# pd.Series()함수로 리스트 튜플 딕셔너리를 시리즈 형식으로 변경이 가능하다.\n",
    "\n",
    "# dictionary to Series\n",
    "dict_data = {'a' : 1, 'b' : 2, 'c' : 3}\n",
    "# pd.Series() 함수 사용\n",
    "dict_series = pd.Series(dict_data)\n",
    "\n",
    "\n",
    "# Tuple to Series\n",
    "tuple_data = ('이순신', '1991-03-15', '남자')\n",
    "# pd.Series() 함수 사용\n",
    "Tuple_series = pd.Series(Tuple_data)\n",
    "\n",
    "dic_data = {'동물' : ['Dog', 'Cat', 'Tiger', 'Lion', 'Monkey'],\n",
    "                    '나이' : [7, 9, 2, 3, 1]}\n",
    "\n",
    "# pd.Series() 함수 사용\n",
    "Tuple_series = pd.Series(Tuple_data)"
   ]
  },
  {
   "cell_type": "code",
   "execution_count": null,
   "id": "c9a8f82b",
   "metadata": {},
   "outputs": [],
   "source": []
  },
  {
   "cell_type": "code",
   "execution_count": null,
   "id": "b716f053",
   "metadata": {},
   "outputs": [],
   "source": []
  },
  {
   "cell_type": "code",
   "execution_count": null,
   "id": "091faada",
   "metadata": {},
   "outputs": [],
   "source": []
  },
  {
   "cell_type": "code",
   "execution_count": null,
   "id": "e4160d23",
   "metadata": {},
   "outputs": [],
   "source": []
  },
  {
   "cell_type": "code",
   "execution_count": null,
   "id": "0707e0ca",
   "metadata": {},
   "outputs": [],
   "source": []
  },
  {
   "cell_type": "code",
   "execution_count": null,
   "id": "2f623480",
   "metadata": {},
   "outputs": [],
   "source": []
  },
  {
   "cell_type": "code",
   "execution_count": null,
   "id": "bd558598",
   "metadata": {},
   "outputs": [],
   "source": []
  },
  {
   "cell_type": "code",
   "execution_count": null,
   "id": "6b01fdf1",
   "metadata": {},
   "outputs": [],
   "source": []
  },
  {
   "cell_type": "code",
   "execution_count": null,
   "id": "c0f75446",
   "metadata": {},
   "outputs": [],
   "source": []
  }
 ],
 "metadata": {
  "kernelspec": {
   "display_name": "Python 3 (ipykernel)",
   "language": "python",
   "name": "python3"
  },
  "language_info": {
   "codemirror_mode": {
    "name": "ipython",
    "version": 3
   },
   "file_extension": ".py",
   "mimetype": "text/x-python",
   "name": "python",
   "nbconvert_exporter": "python",
   "pygments_lexer": "ipython3",
   "version": "3.9.7"
  }
 },
 "nbformat": 4,
 "nbformat_minor": 5
}
